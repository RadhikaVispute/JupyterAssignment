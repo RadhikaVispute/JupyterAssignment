{
  "metadata": {
    "language_info": {
      "codemirror_mode": {
        "name": "python",
        "version": 3
      },
      "file_extension": ".py",
      "mimetype": "text/x-python",
      "name": "python",
      "nbconvert_exporter": "python",
      "pygments_lexer": "ipython3",
      "version": "3.8"
    },
    "kernelspec": {
      "name": "python",
      "display_name": "Pyolite",
      "language": "python"
    }
  },
  "nbformat_minor": 4,
  "nbformat": 4,
  "cells": [
    {
      "cell_type": "markdown",
      "source": "# My Jupyter Notebook on IBM Watson Studio",
      "metadata": {
        "tags": []
      }
    },
    {
      "cell_type": "markdown",
      "source": "**RADHIKA VISPUTE**\n\nSoftware Developer",
      "metadata": {}
    },
    {
      "cell_type": "markdown",
      "source": "_I am intrested in Data Science because of the analytic skills in which i feel i am good at, also i like to work with data and to conclude output._\n",
      "metadata": {}
    },
    {
      "cell_type": "markdown",
      "source": "### My below code is about multiplication of 2 numbers.",
      "metadata": {}
    },
    {
      "cell_type": "code",
      "source": "def mul(n):\n    return n*n\n\nmul(2)",
      "metadata": {
        "trusted": true
      },
      "execution_count": 12,
      "outputs": [
        {
          "execution_count": 12,
          "output_type": "execute_result",
          "data": {
            "text/plain": "4"
          },
          "metadata": {}
        }
      ]
    },
    {
      "cell_type": "markdown",
      "source": "- Red\n- Yellow\n- Green\n1. one\n2. Two\n3. Three\n\n[jupyter link](https://labs.cognitiveclass.ai/)",
      "metadata": {}
    },
    {
      "cell_type": "code",
      "source": "",
      "metadata": {},
      "execution_count": null,
      "outputs": []
    }
  ]
}